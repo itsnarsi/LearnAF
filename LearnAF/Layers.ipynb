{
 "cells": [
  {
   "cell_type": "code",
   "execution_count": 1,
   "metadata": {
    "collapsed": false
   },
   "outputs": [
    {
     "data": {
      "text/plain": [
       "'\\nimport utils.autograd as ag\\n\\n\\nfrom activations import *\\n'"
      ]
     },
     "execution_count": 1,
     "metadata": {},
     "output_type": "execute_result"
    }
   ],
   "source": [
    "%matplotlib inline \n",
    "import numpy as np\n",
    "\n",
    "import arrayfire as af\n",
    "from scipy import ndimage\n",
    "import matplotlib.pyplot as plt\n",
    "\n",
    "'''\n",
    "import utils.autograd as ag\n",
    "\n",
    "\n",
    "from activations import *\n",
    "'''"
   ]
  },
  {
   "cell_type": "code",
   "execution_count": 52,
   "metadata": {
    "collapsed": true
   },
   "outputs": [],
   "source": [
    "class Dense:\n",
    "    def __init__(self,output_shape,input_shape = None,name = None,bias = True):\n",
    "        self.num_neurons = num_neurons\n",
    "        self.ip_shape = ip_shape\n",
    "        self.name = name\n",
    "        self.bias = bias\n",
    "    def __call__(self,x):\n",
    "        self.ip_shape = x.num_neurons\n",
    "        return self\n",
    "        \n",
    "    def get_neurons(self):\n",
    "        print((self.ip_shape,self.num_neurons))"
   ]
  },
  {
   "cell_type": "code",
   "execution_count": 42,
   "metadata": {
    "collapsed": false
   },
   "outputs": [],
   "source": [
    "class Dense:\n",
    "    def __init__(self,output_dim,name = None,bias = True):\n",
    "        self.output_dim = output_dim\n",
    "        self.name = name\n",
    "        self.bias = bias\n",
    "        self.input_shape = None\n",
    "    def __call__(self,x):\n",
    "        self.input_shape = x.output_dim\n",
    "        self.upper_layer = x\n",
    "        x.lower_layer = self\n",
    "        return self\n",
    "    def build(self):\n",
    "        if self.input_shape is not None:\n",
    "            self.w = af.randu(self.input_shape,self.output_dim)/100\n",
    "        else:\n",
    "            raise Exception('Input Shape is None!')\n",
    "        if self.bias == True:\n",
    "            self.b = af.randu(self.output_dim)/100\n",
    "        if hasattr(self,'upper_layer'):\n",
    "            return self.upper_layer.build()\n",
    "    def fwd(self,x):\n",
    "        self.input_data = x\n",
    "        return self.w * x + self.b\n",
    "    def bwd(self,dx,optimizer):\n",
    "        self.w = optimizer(dx*self.input_data,w)\n",
    "        self.b = optimizer(dx,b)\n",
    "        return dx * self.input_data\n",
    "    def get_neurons(self):\n",
    "        print((self.input_shape,self.output_dim))"
   ]
  },
  {
   "cell_type": "code",
   "execution_count": 43,
   "metadata": {
    "collapsed": false
   },
   "outputs": [
    {
     "name": "stdout",
     "output_type": "stream",
     "text": [
      "(None, 100)\n",
      "(100, 50)\n",
      "(50, 5)\n"
     ]
    }
   ],
   "source": [
    "D = Dense(100,name = '1D')\n",
    "D2 = Dense(50)(D)\n",
    "D3 = Dense(5)(D2)\n",
    "D.get_neurons()\n",
    "D2.get_neurons()\n",
    "D3.get_neurons()"
   ]
  },
  {
   "cell_type": "code",
   "execution_count": 44,
   "metadata": {
    "collapsed": false
   },
   "outputs": [
    {
     "name": "stdout",
     "output_type": "stream",
     "text": [
      "(50, 5)\n"
     ]
    }
   ],
   "source": [
    "D2.lower_layer.get_neurons()"
   ]
  },
  {
   "cell_type": "code",
   "execution_count": 38,
   "metadata": {
    "collapsed": false,
    "scrolled": true
   },
   "outputs": [
    {
     "ename": "AttributeError",
     "evalue": "'Dense' object has no attribute 'w'",
     "output_type": "error",
     "traceback": [
      "\u001b[0;31m---------------------------------------------------------------------------\u001b[0m",
      "\u001b[0;31mAttributeError\u001b[0m                            Traceback (most recent call last)",
      "\u001b[0;32m<ipython-input-38-5168803832c9>\u001b[0m in \u001b[0;36m<module>\u001b[0;34m()\u001b[0m\n\u001b[0;32m----> 1\u001b[0;31m \u001b[0mD\u001b[0m\u001b[0;34m.\u001b[0m\u001b[0mw\u001b[0m\u001b[0;34m\u001b[0m\u001b[0m\n\u001b[0m",
      "\u001b[0;31mAttributeError\u001b[0m: 'Dense' object has no attribute 'w'"
     ]
    }
   ],
   "source": [
    "D.w"
   ]
  }
 ],
 "metadata": {
  "anaconda-cloud": {},
  "kernelspec": {
   "display_name": "Python [default]",
   "language": "python",
   "name": "python3"
  },
  "language_info": {
   "codemirror_mode": {
    "name": "ipython",
    "version": 3
   },
   "file_extension": ".py",
   "mimetype": "text/x-python",
   "name": "python",
   "nbconvert_exporter": "python",
   "pygments_lexer": "ipython3",
   "version": "3.5.2"
  }
 },
 "nbformat": 4,
 "nbformat_minor": 2
}
