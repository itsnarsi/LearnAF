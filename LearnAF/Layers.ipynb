{
 "cells": [
  {
   "cell_type": "code",
   "execution_count": 11,
   "metadata": {
    "collapsed": false
   },
   "outputs": [
    {
     "data": {
      "text/plain": [
       "'\\nimport utils.autograd as ag\\n\\n\\nfrom activations import *\\n'"
      ]
     },
     "execution_count": 11,
     "metadata": {},
     "output_type": "execute_result"
    }
   ],
   "source": [
    "%matplotlib inline \n",
    "import numpy as np\n",
    "\n",
    "import arrayfire as af\n",
    "from scipy import ndimage\n",
    "import matplotlib.pyplot as plt\n",
    "\n",
    "'''\n",
    "import utils.autograd as ag\n",
    "\n",
    "\n",
    "from activations import *\n",
    "'''"
   ]
  },
  {
   "cell_type": "code",
   "execution_count": 25,
   "metadata": {
    "collapsed": false
   },
   "outputs": [
    {
     "data": {
      "text/plain": [
       "arrayfire.Array()\n",
       "Type: float\n",
       "[3 1 1 1]\n",
       "    0.2862 \n",
       "    0.0639 \n",
       "    0.1491 \n"
      ]
     },
     "execution_count": 25,
     "metadata": {},
     "output_type": "execute_result"
    }
   ],
   "source": [
    "af.blas.matmul(af.np_to_af_array(np.asarray(l0.T,dtype = np.float32)),af.np_to_af_array(np.asarray(l1_delta,dtype = np.float32)))"
   ]
  },
  {
   "cell_type": "code",
   "execution_count": 33,
   "metadata": {
    "collapsed": false
   },
   "outputs": [
    {
     "ename": "RuntimeError",
     "evalue": "In function af::dim4 getOutDims(const af::dim4&, const af::dim4&, bool)\nIn file src/backend/ArrayInfo.cpp:178\nInvalid dimension for argument 1\nExpected: ldims == rdims\n",
     "output_type": "error",
     "traceback": [
      "\u001b[0;31m---------------------------------------------------------------------------\u001b[0m",
      "\u001b[0;31mRuntimeError\u001b[0m                              Traceback (most recent call last)",
      "\u001b[0;32m<ipython-input-33-50f0b05782df>\u001b[0m in \u001b[0;36m<module>\u001b[0;34m()\u001b[0m\n\u001b[0;32m----> 1\u001b[0;31m \u001b[0maf\u001b[0m\u001b[0;34m.\u001b[0m\u001b[0mnp_to_af_array\u001b[0m\u001b[0;34m(\u001b[0m\u001b[0mnp\u001b[0m\u001b[0;34m.\u001b[0m\u001b[0masarray\u001b[0m\u001b[0;34m(\u001b[0m\u001b[0ml0\u001b[0m\u001b[0;34m.\u001b[0m\u001b[0mT\u001b[0m\u001b[0;34m,\u001b[0m\u001b[0mdtype\u001b[0m \u001b[0;34m=\u001b[0m \u001b[0mnp\u001b[0m\u001b[0;34m.\u001b[0m\u001b[0mfloat32\u001b[0m\u001b[0;34m)\u001b[0m\u001b[0;34m)\u001b[0m \u001b[0;34m*\u001b[0m \u001b[0maf\u001b[0m\u001b[0;34m.\u001b[0m\u001b[0mnp_to_af_array\u001b[0m\u001b[0;34m(\u001b[0m\u001b[0mnp\u001b[0m\u001b[0;34m.\u001b[0m\u001b[0masarray\u001b[0m\u001b[0;34m(\u001b[0m\u001b[0ml1_delta\u001b[0m\u001b[0;34m,\u001b[0m\u001b[0mdtype\u001b[0m \u001b[0;34m=\u001b[0m \u001b[0mnp\u001b[0m\u001b[0;34m.\u001b[0m\u001b[0mfloat32\u001b[0m\u001b[0;34m)\u001b[0m\u001b[0;34m)\u001b[0m\u001b[0;34m\u001b[0m\u001b[0m\n\u001b[0m",
      "\u001b[0;32m/home/narsi/anaconda3/lib/python3.5/site-packages/arrayfire-3.5.0-py3.5.egg/arrayfire/array.py\u001b[0m in \u001b[0;36m__mul__\u001b[0;34m(self, other)\u001b[0m\n\u001b[1;32m    801\u001b[0m         \u001b[0mReturn\u001b[0m \u001b[0mself\u001b[0m \u001b[0;34m*\u001b[0m \u001b[0mother\u001b[0m\u001b[0;34m.\u001b[0m\u001b[0;34m\u001b[0m\u001b[0m\n\u001b[1;32m    802\u001b[0m         \"\"\"\n\u001b[0;32m--> 803\u001b[0;31m         \u001b[0;32mreturn\u001b[0m \u001b[0m_binary_func\u001b[0m\u001b[0;34m(\u001b[0m\u001b[0mself\u001b[0m\u001b[0;34m,\u001b[0m \u001b[0mother\u001b[0m\u001b[0;34m,\u001b[0m \u001b[0mbackend\u001b[0m\u001b[0;34m.\u001b[0m\u001b[0mget\u001b[0m\u001b[0;34m(\u001b[0m\u001b[0;34m)\u001b[0m\u001b[0;34m.\u001b[0m\u001b[0maf_mul\u001b[0m\u001b[0;34m)\u001b[0m\u001b[0;34m\u001b[0m\u001b[0m\n\u001b[0m\u001b[1;32m    804\u001b[0m \u001b[0;34m\u001b[0m\u001b[0m\n\u001b[1;32m    805\u001b[0m     \u001b[0;32mdef\u001b[0m \u001b[0m__imul__\u001b[0m\u001b[0;34m(\u001b[0m\u001b[0mself\u001b[0m\u001b[0;34m,\u001b[0m \u001b[0mother\u001b[0m\u001b[0;34m)\u001b[0m\u001b[0;34m:\u001b[0m\u001b[0;34m\u001b[0m\u001b[0m\n",
      "\u001b[0;32m/home/narsi/anaconda3/lib/python3.5/site-packages/arrayfire-3.5.0-py3.5.egg/arrayfire/array.py\u001b[0m in \u001b[0;36m_binary_func\u001b[0;34m(lhs, rhs, c_func)\u001b[0m\n\u001b[1;32m    113\u001b[0m         \u001b[0;32mraise\u001b[0m \u001b[0mTypeError\u001b[0m\u001b[0;34m(\u001b[0m\u001b[0;34m\"Invalid parameter to binary function\"\u001b[0m\u001b[0;34m)\u001b[0m\u001b[0;34m\u001b[0m\u001b[0m\n\u001b[1;32m    114\u001b[0m \u001b[0;34m\u001b[0m\u001b[0m\n\u001b[0;32m--> 115\u001b[0;31m     \u001b[0msafe_call\u001b[0m\u001b[0;34m(\u001b[0m\u001b[0mc_func\u001b[0m\u001b[0;34m(\u001b[0m\u001b[0mc_pointer\u001b[0m\u001b[0;34m(\u001b[0m\u001b[0mout\u001b[0m\u001b[0;34m.\u001b[0m\u001b[0marr\u001b[0m\u001b[0;34m)\u001b[0m\u001b[0;34m,\u001b[0m \u001b[0mlhs\u001b[0m\u001b[0;34m.\u001b[0m\u001b[0marr\u001b[0m\u001b[0;34m,\u001b[0m \u001b[0mother\u001b[0m\u001b[0;34m.\u001b[0m\u001b[0marr\u001b[0m\u001b[0;34m,\u001b[0m \u001b[0m_bcast_var\u001b[0m\u001b[0;34m.\u001b[0m\u001b[0mget\u001b[0m\u001b[0;34m(\u001b[0m\u001b[0;34m)\u001b[0m\u001b[0;34m)\u001b[0m\u001b[0;34m)\u001b[0m\u001b[0;34m\u001b[0m\u001b[0m\n\u001b[0m\u001b[1;32m    116\u001b[0m \u001b[0;34m\u001b[0m\u001b[0m\n\u001b[1;32m    117\u001b[0m     \u001b[0;32mreturn\u001b[0m \u001b[0mout\u001b[0m\u001b[0;34m\u001b[0m\u001b[0m\n",
      "\u001b[0;32m/home/narsi/anaconda3/lib/python3.5/site-packages/arrayfire-3.5.0-py3.5.egg/arrayfire/util.py\u001b[0m in \u001b[0;36msafe_call\u001b[0;34m(af_error)\u001b[0m\n\u001b[1;32m     77\u001b[0m         \u001b[0merr_len\u001b[0m \u001b[0;34m=\u001b[0m \u001b[0mc_dim_t\u001b[0m\u001b[0;34m(\u001b[0m\u001b[0;36m0\u001b[0m\u001b[0;34m)\u001b[0m\u001b[0;34m\u001b[0m\u001b[0m\n\u001b[1;32m     78\u001b[0m         \u001b[0mbackend\u001b[0m\u001b[0;34m.\u001b[0m\u001b[0mget\u001b[0m\u001b[0;34m(\u001b[0m\u001b[0;34m)\u001b[0m\u001b[0;34m.\u001b[0m\u001b[0maf_get_last_error\u001b[0m\u001b[0;34m(\u001b[0m\u001b[0mc_pointer\u001b[0m\u001b[0;34m(\u001b[0m\u001b[0merr_str\u001b[0m\u001b[0;34m)\u001b[0m\u001b[0;34m,\u001b[0m \u001b[0mc_pointer\u001b[0m\u001b[0;34m(\u001b[0m\u001b[0merr_len\u001b[0m\u001b[0;34m)\u001b[0m\u001b[0;34m)\u001b[0m\u001b[0;34m\u001b[0m\u001b[0m\n\u001b[0;32m---> 79\u001b[0;31m         \u001b[0;32mraise\u001b[0m \u001b[0mRuntimeError\u001b[0m\u001b[0;34m(\u001b[0m\u001b[0mto_str\u001b[0m\u001b[0;34m(\u001b[0m\u001b[0merr_str\u001b[0m\u001b[0;34m)\u001b[0m\u001b[0;34m)\u001b[0m\u001b[0;34m\u001b[0m\u001b[0m\n\u001b[0m\u001b[1;32m     80\u001b[0m \u001b[0;34m\u001b[0m\u001b[0m\n\u001b[1;32m     81\u001b[0m \u001b[0;32mdef\u001b[0m \u001b[0mget_version\u001b[0m\u001b[0;34m(\u001b[0m\u001b[0;34m)\u001b[0m\u001b[0;34m:\u001b[0m\u001b[0;34m\u001b[0m\u001b[0m\n",
      "\u001b[0;31mRuntimeError\u001b[0m: In function af::dim4 getOutDims(const af::dim4&, const af::dim4&, bool)\nIn file src/backend/ArrayInfo.cpp:178\nInvalid dimension for argument 1\nExpected: ldims == rdims\n"
     ]
    }
   ],
   "source": [
    "af.np_to_af_array(np.asarray(l0.T,dtype = np.float32)) * af.np_to_af_array(np.asarray(l1_delta,dtype = np.float32))"
   ]
  },
  {
   "cell_type": "code",
   "execution_count": 42,
   "metadata": {
    "collapsed": false
   },
   "outputs": [],
   "source": [
    "class Dense:\n",
    "    def __init__(self,output_dim,name = None,bias = True):\n",
    "        self.output_dim = output_dim\n",
    "        self.name = name\n",
    "        self.bias = bias\n",
    "        self.input_shape = None\n",
    "    def __call__(self,x):\n",
    "        self.input_shape = x.output_dim\n",
    "        self.upper_layer = x\n",
    "        x.lower_layer = self\n",
    "        return self\n",
    "    def build(self):\n",
    "        if self.input_shape is not None:\n",
    "            self.w = af.randu(self.input_shape,self.output_dim)/100\n",
    "        else:\n",
    "            raise Exception('Input Shape is None!')\n",
    "        if self.bias == True:\n",
    "            self.b = af.randu(self.output_dim)/100\n",
    "        if hasattr(self,'upper_layer'):\n",
    "            return self.upper_layer.build()\n",
    "    def fwd(self,x):\n",
    "        self.input_data = x\n",
    "        return self.w * x + self.b\n",
    "    def bwd(self,dx,optimizer):\n",
    "        self.w = optimizer(dx*self.input_data,w)\n",
    "        self.b = optimizer(dx,b)\n",
    "        return dx * self.input_data\n",
    "    def get_neurons(self):\n",
    "        print((self.input_shape,self.output_dim))"
   ]
  },
  {
   "cell_type": "code",
   "execution_count": 51,
   "metadata": {
    "collapsed": false
   },
   "outputs": [],
   "source": [
    "x_1D = np.arange(-4, 4,1, dtype=np.float32)\n",
    "x = Variable(x_1D,name='x')\n",
    "y = Constant(2)\n",
    "x1 = x * x\n",
    "x2 = x1 + x \n",
    "z = x2.grad([x])"
   ]
  },
  {
   "cell_type": "code",
   "execution_count": 52,
   "metadata": {
    "collapsed": false
   },
   "outputs": [
    {
     "data": {
      "text/plain": [
       "{'x': array([-7., -5., -3., -1.,  1.,  3.,  5.,  7.], dtype=float32)}"
      ]
     },
     "execution_count": 52,
     "metadata": {},
     "output_type": "execute_result"
    }
   ],
   "source": [
    "z"
   ]
  },
  {
   "cell_type": "code",
   "execution_count": 33,
   "metadata": {
    "collapsed": false
   },
   "outputs": [
    {
     "data": {
      "text/plain": [
       "<__main__.Variable at 0x7f62edc6da90>"
      ]
     },
     "execution_count": 33,
     "metadata": {},
     "output_type": "execute_result"
    }
   ],
   "source": [
    "c[0]"
   ]
  },
  {
   "cell_type": "code",
   "execution_count": 45,
   "metadata": {
    "collapsed": false
   },
   "outputs": [],
   "source": [
    "import arrayfire as af\n",
    "from collections import namedtuple\n",
    "\n",
    "Point = \"Dict[str, float]\"\n",
    "\n",
    "class AG:\n",
    "    def eval(self) -> float:\n",
    "        \n",
    "        return self._eval({})\n",
    "    \n",
    "    def _eval(self, cache: dict) -> float:\n",
    "\n",
    "        raise NotImplementedError\n",
    "    \n",
    "    def grad(self, variables) -> Point:\n",
    "        cache = {}\n",
    "        self._eval(cache)\n",
    "        G = {}\n",
    "        for i in range(len(variables)):\n",
    "            G[variables[i].name] = 0\n",
    "        self._grad(1, G, cache)\n",
    "        return G\n",
    "\n",
    "    def _grad(self, adjoint: float, gradient: Point, cache):\n",
    "\n",
    "        raise NotImplementedError\n",
    "\n",
    "    def __add__(self, other):\n",
    "        return Add(self, other)\n",
    "\n",
    "    def __sub__(self, other):\n",
    "        return Subtract(self, other)\n",
    "\n",
    "    def __mul__(self, other):\n",
    "        return Multiply(self, other)\n",
    "\n",
    "    def __truediv__(self, other):\n",
    "        return Divide(self, other)\n",
    "\n",
    "    def __pow__(self, other):\n",
    "        return Pow(self, other)\n",
    "\n",
    "class Variable(AG):\n",
    "    def __init__(self,value,name=None):\n",
    "        self.value = value\n",
    "        self.name = name\n",
    "    def _eval(self, cache):\n",
    "        cache[id(self)] = self.value\n",
    "        return cache[id(self)]\n",
    "\n",
    "    def _grad(self, adjoint, gradient, cache):\n",
    "        gradient[self.name] += adjoint\n",
    "\n",
    "class Constant(AG, namedtuple(\"Constant\", [\"value\"])):\n",
    "    def _eval(self, cache):\n",
    "        cache[id(self)] = self.value\n",
    "        return self.value\n",
    "\n",
    "    def _grad(self, ajoint, gradient, cache):\n",
    "        pass\n",
    "\n",
    "class Add(AG, namedtuple(\"Add\", [\"AG1\", \"AG2\"])):\n",
    "    def _eval(self, cache):\n",
    "        if id(self) not in cache:\n",
    "            eval1, eval2 = self.AG1._eval, self.AG2._eval\n",
    "            cache[id(self)] = eval1(cache) + eval2(cache)\n",
    "        return cache[id(self)]\n",
    "\n",
    "    def _grad(self, adjoint, gradient, cache):\n",
    "        self.AG1._grad(adjoint, gradient, cache)\n",
    "        self.AG2._grad(adjoint, gradient, cache)\n",
    "\n",
    "class Subtract(AG, namedtuple(\"Subtract\", [\"AG1\", \"AG2\"])):\n",
    "    def _eval(self, cache):\n",
    "        if id(self) not in cache:\n",
    "            eval1, eval2 = self.AG1._eval, self.AG2._eval\n",
    "            cache[id(self)] = eval1(cache) - eval2(cache)\n",
    "        return cache[id(self)]\n",
    "\n",
    "    def _grad(self, adjoint, gradient, cache):\n",
    "        self.AG1._grad(adjoint, gradient, cache)\n",
    "        self.AG2._grad(-adjoint, gradient, cache)\n",
    "\n",
    "class Multiply(AG, namedtuple(\"Multiply\", [\"AG1\", \"AG2\"])):\n",
    "    def _eval(self, cache):\n",
    "        if id(self) not in cache:\n",
    "            eval1, eval2 = self.AG1._eval, self.AG2._eval\n",
    "            cache[id(self)] = eval1(cache) * eval2(cache)\n",
    "        return cache[id(self)]\n",
    "\n",
    "    def _grad(self, adjoint, gradient, cache):\n",
    "        lhs = cache[id(self.AG1)]\n",
    "        rhs = cache[id(self.AG2)]\n",
    "        self.AG1._grad(adjoint * rhs, gradient, cache)\n",
    "        self.AG2._grad(adjoint * lhs, gradient, cache)\n",
    "\n",
    "class Divide(AG, namedtuple(\"Divide\", [\"AG1\", \"AG2\"])):\n",
    "    def _eval(self, cache):\n",
    "        if id(self) not in cache:\n",
    "            eval1, eval2 = self.AG1._eval, self.AG2._eval\n",
    "            cache[id(self)] = eval1(cache) / eval2(cache)\n",
    "        return cache[id(self)]\n",
    "\n",
    "    def _grad(self, adjoint, gradient, cache):\n",
    "        high = cache[id(self.AG1)]\n",
    "        low = cache[id(self.AG2)]\n",
    "        self.AG1._grad(adjoint / low, gradient, cache)\n",
    "        self.AG2._grad(-adjoint * high / low ** 2, gradient,\n",
    "                                 cache)\n",
    "\n",
    "class Pow(AG, namedtuple(\"Pow\", [\"AG1\", \"AG2\"])):\n",
    "    def _eval(self, cache):\n",
    "        if id(self) not in cache:\n",
    "            eval1, eval2 = self.AG1._eval, self.AG2._eval\n",
    "            cache[id(self)] = eval1(cache) ** eval2(cache)\n",
    "        return cache[id(self)]\n",
    "    def _grad(self, adjoint, gradient, cache):\n",
    "        base = cache[id(self.AG1)]\n",
    "        exp = cache[id(self.AG2)]\n",
    "\n",
    "        self.AG1._grad(adjoint * exp * base ** (exp - 1), gradient, cache)\n",
    "        self.AG2._grad(adjoint * af.arith.log(base) * base ** exp, gradient, cache)\n",
    "\n",
    "class sin(AG, namedtuple(\"sin\", [\"AG1\"])):\n",
    "    def _eval(self, cache):\n",
    "        if id(self) not in cache:\n",
    "            eval1 = self.AG1._eval\n",
    "            cache[id(self)] = af.arith.sin(eval1(cache))\n",
    "        return cache[id(self)]\n",
    "\n",
    "    def _grad(self, adjoint, gradient, cache):\n",
    "        a = cache[id(self.AG1)]\n",
    "        self.AG1._grad(adjoint * af.arith.cos(a), gradient, cache)\n",
    "        \n",
    "        \n",
    "class cos(AG, namedtuple(\"cos\", [\"AG1\"])):\n",
    "    def _eval(self, cache):\n",
    "        if id(self) not in cache:\n",
    "            eval1 = self.AG1._eval\n",
    "            cache[id(self)] = af.arith.cos(eval1(cache))\n",
    "        return cache[id(self)]\n",
    "\n",
    "    def _grad(self, adjoint, gradient, cache):\n",
    "        a = cache[id(self.AG1)]\n",
    "        self.AG1._grad(-adjoint * af.arith.sin(a), gradient, cache)\n",
    "\n",
    "\n",
    "class exp(AG, namedtuple(\"exp\", [\"AG1\"])):\n",
    "    def _eval(self, cache):\n",
    "        if id(self) not in cache:\n",
    "            eval1 = self.AG1._eval\n",
    "            cache[id(self)] = af.arith.exp(eval1(cache))\n",
    "        return cache[id(self)]\n",
    "\n",
    "    def _grad(self, adjoint, gradient, cache):\n",
    "        a = cache[id(self.AG1)]\n",
    "        self.AG1._grad(adjoint * af.arith.exp(a), gradient, cache)\n"
   ]
  },
  {
   "cell_type": "code",
   "execution_count": 44,
   "metadata": {
    "collapsed": false
   },
   "outputs": [
    {
     "name": "stdout",
     "output_type": "stream",
     "text": [
      "(50, 5)\n"
     ]
    }
   ],
   "source": [
    "D2.lower_layer.get_neurons()"
   ]
  },
  {
   "cell_type": "code",
   "execution_count": 3,
   "metadata": {
    "collapsed": false,
    "scrolled": true
   },
   "outputs": [
    {
     "name": "stdout",
     "output_type": "stream",
     "text": [
      "Output After Training:\n",
      "[[ 0.2689864 ]\n",
      " [ 0.36375058]\n",
      " [ 0.23762817]\n",
      " [ 0.3262757 ]]\n"
     ]
    }
   ],
   "source": [
    "import numpy as np\n",
    "\n",
    "# sigmoid function\n",
    "def nonlin(x,deriv=False):\n",
    "    if(deriv==True):\n",
    "        return x*(1-x)\n",
    "    return 1/(1+np.exp(-x))\n",
    "    \n",
    "# input dataset\n",
    "X = np.array([  [0,0,1],\n",
    "                [0,1,1],\n",
    "                [1,0,1],\n",
    "                [1,1,1] ])\n",
    "    \n",
    "# output dataset            \n",
    "y = np.array([[0,0,1,1]]).T\n",
    "\n",
    "# seed random numbers to make calculation\n",
    "# deterministic (just a good practice)\n",
    "np.random.seed(1)\n",
    "\n",
    "# initialize weights randomly with mean 0\n",
    "syn0 = 2*np.random.random((3,1)) - 1\n",
    "\n",
    "for iter in range(0,1):\n",
    "\n",
    "    # forward propagation\n",
    "    l0 = X\n",
    "    l1 = nonlin(np.dot(l0,syn0))\n",
    "\n",
    "    # how much did we miss?\n",
    "    l1_error = y - l1\n",
    "\n",
    "    # multiply how much we missed by the \n",
    "    # slope of the sigmoid at the values in l1\n",
    "    l1_delta = l1_error * nonlin(l1,True)\n",
    "\n",
    "    # update weights\n",
    "    syn0 += np.dot(l0.T,l1_delta)\n",
    "\n",
    "print(\"Output After Training:\")\n",
    "print(l1)"
   ]
  },
  {
   "cell_type": "code",
   "execution_count": 4,
   "metadata": {
    "collapsed": false
   },
   "outputs": [
    {
     "data": {
      "text/plain": [
       "array([[0, 0, 1],\n",
       "       [0, 1, 1],\n",
       "       [1, 0, 1],\n",
       "       [1, 1, 1]])"
      ]
     },
     "execution_count": 4,
     "metadata": {},
     "output_type": "execute_result"
    }
   ],
   "source": [
    "l0"
   ]
  },
  {
   "cell_type": "code",
   "execution_count": 6,
   "metadata": {
    "collapsed": false
   },
   "outputs": [
    {
     "data": {
      "text/plain": [
       "array([[ 0.2689864 ],\n",
       "       [ 0.36375058],\n",
       "       [ 0.23762817],\n",
       "       [ 0.3262757 ]])"
      ]
     },
     "execution_count": 6,
     "metadata": {},
     "output_type": "execute_result"
    }
   ],
   "source": [
    "l1"
   ]
  },
  {
   "cell_type": "code",
   "execution_count": 7,
   "metadata": {
    "collapsed": false
   },
   "outputs": [
    {
     "data": {
      "text/plain": [
       "array([[ 0.12025406],\n",
       "       [ 0.50456196],\n",
       "       [-0.85063774]])"
      ]
     },
     "execution_count": 7,
     "metadata": {},
     "output_type": "execute_result"
    }
   ],
   "source": [
    "syn0"
   ]
  },
  {
   "cell_type": "code",
   "execution_count": 8,
   "metadata": {
    "collapsed": false
   },
   "outputs": [
    {
     "data": {
      "text/plain": [
       "array([[-0.2689864 ],\n",
       "       [-0.36375058],\n",
       "       [ 0.76237183],\n",
       "       [ 0.6737243 ]])"
      ]
     },
     "execution_count": 8,
     "metadata": {},
     "output_type": "execute_result"
    }
   ],
   "source": [
    "l1_error"
   ]
  },
  {
   "cell_type": "code",
   "execution_count": 35,
   "metadata": {
    "collapsed": false
   },
   "outputs": [
    {
     "data": {
      "text/plain": [
       "array([[-0.05289153],\n",
       "       [-0.08418501],\n",
       "       [ 0.13811206],\n",
       "       [ 0.14809799]])"
      ]
     },
     "execution_count": 35,
     "metadata": {},
     "output_type": "execute_result"
    }
   ],
   "source": [
    "l1_delta"
   ]
  },
  {
   "cell_type": "code",
   "execution_count": 10,
   "metadata": {
    "collapsed": false
   },
   "outputs": [
    {
     "data": {
      "text/plain": [
       "array([[0, 0, 1, 1],\n",
       "       [0, 1, 0, 1],\n",
       "       [1, 1, 1, 1]])"
      ]
     },
     "execution_count": 10,
     "metadata": {},
     "output_type": "execute_result"
    }
   ],
   "source": [
    "l0.T"
   ]
  }
 ],
 "metadata": {
  "anaconda-cloud": {},
  "kernelspec": {
   "display_name": "Python [default]",
   "language": "python",
   "name": "python3"
  },
  "language_info": {
   "codemirror_mode": {
    "name": "ipython",
    "version": 3
   },
   "file_extension": ".py",
   "mimetype": "text/x-python",
   "name": "python",
   "nbconvert_exporter": "python",
   "pygments_lexer": "ipython3",
   "version": "3.5.2"
  }
 },
 "nbformat": 4,
 "nbformat_minor": 2
}
