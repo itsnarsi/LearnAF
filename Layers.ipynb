{
 "cells": [
  {
   "cell_type": "code",
   "execution_count": 1,
   "metadata": {
    "collapsed": false
   },
   "outputs": [],
   "source": [
    "%matplotlib inline \n",
    "import numpy as np\n",
    "\n",
    "import arrayfire as af\n",
    "from scipy import ndimage\n",
    "import matplotlib.pyplot as plt\n",
    "from LearnAF import *\n",
    "\n",
    "'''\n",
    "import utils.autograd as ag\n",
    "\n",
    "\n",
    "from activations import *\n",
    "'''\n",
    "# input dataset\n",
    "X = np.array([  [0,0,1],\n",
    "                [0,1,1],\n",
    "                [1,0,1],\n",
    "                [1,1,1] ], dtype = np.float32)\n",
    "X = Constant(af.np_to_af_array(X))\n",
    "# output dataset            \n",
    "y = np.array([[0,0,1,1]], dtype = np.float32).T\n",
    "y = Constant(af.np_to_af_array(y)) \n",
    "# seed random numbers to make calculation\n",
    "# deterministic (just a good practice)\n",
    "np.random.seed(1)\n",
    "\n",
    "# initialize weights randomly with mean 0\n",
    "syn0 = np.array(2*np.random.random((3,1)) - 1, dtype = np.float32)\n",
    "W = Variable(af.np_to_af_array(syn0),name='W')"
   ]
  },
  {
   "cell_type": "code",
   "execution_count": 2,
   "metadata": {
    "collapsed": false,
    "scrolled": true
   },
   "outputs": [],
   "source": [
    "yp = sigmoid(matmul(X,W))\n",
    "e = mse(y,yp)\n",
    "for i in range(0,1000):\n",
    "    We = e.grad([W])\n",
    "    W.value  -= We['W']"
   ]
  },
  {
   "cell_type": "code",
   "execution_count": 3,
   "metadata": {
    "collapsed": false
   },
   "outputs": [
    {
     "data": {
      "text/plain": [
       "arrayfire.Array()\n",
       "Type: float\n",
       "[4 1 1 1]\n",
       "    0.0460 \n",
       "    0.0373 \n",
       "    0.9698 \n",
       "    0.9627 \n"
      ]
     },
     "execution_count": 3,
     "metadata": {},
     "output_type": "execute_result"
    }
   ],
   "source": [
    "yp.eval()"
   ]
  }
 ],
 "metadata": {
  "anaconda-cloud": {},
  "kernelspec": {
   "display_name": "Python [default]",
   "language": "python",
   "name": "python3"
  },
  "language_info": {
   "codemirror_mode": {
    "name": "ipython",
    "version": 3
   },
   "file_extension": ".py",
   "mimetype": "text/x-python",
   "name": "python",
   "nbconvert_exporter": "python",
   "pygments_lexer": "ipython3",
   "version": "3.5.2"
  }
 },
 "nbformat": 4,
 "nbformat_minor": 2
}
