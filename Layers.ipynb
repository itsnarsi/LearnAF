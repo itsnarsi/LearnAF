{
 "cells": [
  {
   "cell_type": "code",
   "execution_count": 1,
   "metadata": {
    "collapsed": false,
    "scrolled": false
   },
   "outputs": [],
   "source": [
    "%matplotlib inline \n",
    "import numpy as np\n",
    "\n",
    "import arrayfire as af\n",
    "from scipy import ndimage\n",
    "import matplotlib.pyplot as plt\n",
    "from LearnAF import *\n",
    "import tqdm\n",
    "import pandas as pd\n",
    "\n",
    "af.set_backend('cpu')\n",
    "\n",
    "f = np.load('/home/narsi/Downloads/mnist.npz')\n",
    "Data = f['x_train']\n",
    "y_train = f['y_train']\n",
    "\n",
    "Data = Data.reshape(60000, 784)\n",
    "Data = Data.astype('float32')/255.0\n",
    "classes = np.asarray(to_categorical(y_train), dtype = np.float32)\n",
    "\n",
    "# initialize weights randomly with mean 0\n",
    "syn0 = np.array(2*np.random.random((Data.shape[1],10)) - 1, dtype = np.float32)\n",
    "W1 = Variable(af.np_to_af_array(syn0),name='W1')\n",
    "b1 = Variable(af.constant(0,1),name='b1')\n",
    "'''\n",
    "syn0 = np.array(2*np.random.random((64,16)) - 1, dtype = np.float32)\n",
    "W2 = Variable(af.np_to_af_array(syn0),name='W2')\n",
    "b2 = Variable(af.constant(0,1),name='b2')\n",
    "\n",
    "syn0 = np.array(2*np.random.random((16,10)) - 1, dtype = np.float32)\n",
    "W3 = Variable(af.np_to_af_array(syn0),name='W3')\n",
    "b3 = Variable(af.constant(0,1),name='b3')\n",
    "'''\n",
    "w = [W1,b1]#,W2,b2,W3,b3]"
   ]
  },
  {
   "cell_type": "markdown",
   "metadata": {},
   "source": [
    "# Model"
   ]
  },
  {
   "cell_type": "code",
   "execution_count": 2,
   "metadata": {
    "collapsed": true
   },
   "outputs": [],
   "source": [
    "def learner(X,W):\n",
    "    # 784 -> 64\n",
    "    X1 = sigmoid(add(matmul(X,W[0]),W[1]))\n",
    "    # 64 -> 16\n",
    "    #X2 = sigmoid(add(matmul(X1,W[2]),W[3]))\n",
    "    # 16 -> 10\n",
    "    #YP = sigmoid(add(matmul(X2,W[4]),W[5]))\n",
    "    return X1"
   ]
  },
  {
   "cell_type": "markdown",
   "metadata": {},
   "source": [
    "# Place Holders"
   ]
  },
  {
   "cell_type": "code",
   "execution_count": 3,
   "metadata": {
    "collapsed": true
   },
   "outputs": [],
   "source": [
    "Xin = Constant(af.np_to_af_array(np.zeros((32,Data.shape[1]),dtype = np.float32)))\n",
    "Y = Constant(af.np_to_af_array(np.zeros((32,10),dtype = np.float32)))"
   ]
  },
  {
   "cell_type": "code",
   "execution_count": 4,
   "metadata": {
    "collapsed": false
   },
   "outputs": [],
   "source": [
    "YP = learner(Xin,w)\n",
    "e = mse(Y,YP)\n",
    "acc = accuracy(Y,YP)\n",
    "sgd = SGD(lr = 0.01,momentum=0.90)"
   ]
  },
  {
   "cell_type": "code",
   "execution_count": 5,
   "metadata": {
    "collapsed": false,
    "scrolled": false
   },
   "outputs": [
    {
     "name": "stderr",
     "output_type": "stream",
     "text": [
      "100%|██████████| 1875/1875 [00:33<00:00, 55.27it/s]"
     ]
    },
    {
     "name": "stdout",
     "output_type": "stream",
     "text": [
      "Accuracy :0.145183333333\n",
      "Loss :0.339814631685\n"
     ]
    },
    {
     "name": "stderr",
     "output_type": "stream",
     "text": [
      "\n"
     ]
    }
   ],
   "source": [
    "for i in range(1):\n",
    "    epoch_acc = []\n",
    "    epoch_loss = []\n",
    "    total_batchs = int(Data.shape[0]/32)\n",
    "    for j in tqdm.tqdm(range(total_batchs)):\n",
    "        X_np = Data[j*32:(j+1)*32,:]\n",
    "        Xin.value = af.np_to_af_array(X_np)\n",
    "        Y_np = classes[j*32:(j+1)*32,:]\n",
    "        Y.value = af.np_to_af_array(Y_np)\n",
    "        \n",
    "        #YP = learner(Xin,w)\n",
    "        #e = mse(Y,YP)\n",
    "        (l,w) = sgd.update(e, w, i)\n",
    "        acc = accuracy(Y,YP)\n",
    "        epoch_acc.append(acc)\n",
    "        epoch_loss.append(l)\n",
    "    print('Accuracy :'+str(np.mean(epoch_acc)))\n",
    "    print('Loss :'+str(np.mean(epoch_loss)))"
   ]
  }
 ],
 "metadata": {
  "anaconda-cloud": {},
  "kernelspec": {
   "display_name": "Python [default]",
   "language": "python",
   "name": "python3"
  },
  "language_info": {
   "codemirror_mode": {
    "name": "ipython",
    "version": 3
   },
   "file_extension": ".py",
   "mimetype": "text/x-python",
   "name": "python",
   "nbconvert_exporter": "python",
   "pygments_lexer": "ipython3",
   "version": "3.5.2"
  }
 },
 "nbformat": 4,
 "nbformat_minor": 2
}
