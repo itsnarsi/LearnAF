{
 "cells": [
  {
   "cell_type": "code",
   "execution_count": 1,
   "metadata": {
    "collapsed": true,
    "scrolled": false
   },
   "outputs": [],
   "source": [
    "%matplotlib inline \n",
    "import numpy as np\n",
    "\n",
    "import arrayfire as af\n",
    "from scipy import ndimage\n",
    "import matplotlib.pyplot as plt\n",
    "from LearnAF import *\n",
    "import tqdm\n",
    "import pandas as pd\n",
    "\n",
    "af.set_backend('cpu')\n",
    "#af.set_device(1)\n",
    "\n",
    "f = np.load('/home/narsi/Downloads/mnist.npz')\n",
    "Data = f['x_train']\n",
    "y_train = f['y_train']\n",
    "\n",
    "Data = Data.reshape(60000, 784)\n",
    "Data = Data.astype('float32')/255.0\n",
    "classes = np.asarray(to_categorical(y_train), dtype = np.float32)\n",
    "\n",
    "# initialize weights randomly with mean 0\n",
    "syn0 = np.array(2*np.random.random((Data.shape[1],64)) - 1, dtype = np.float32)\n",
    "W1 = Variable(af.np_to_af_array(syn0),name='W1')\n",
    "b1 = Variable(af.constant(0,1),name='b1')\n",
    "\n",
    "syn0 = np.array(2*np.random.random((64,16)) - 1, dtype = np.float32)\n",
    "W2 = Variable(af.np_to_af_array(syn0),name='W2')\n",
    "b2 = Variable(af.constant(0,1),name='b2')\n",
    "\n",
    "syn0 = np.array(2*np.random.random((16,10)) - 1, dtype = np.float32)\n",
    "W3 = Variable(af.np_to_af_array(syn0),name='W3')\n",
    "b3 = Variable(af.constant(0,1),name='b3')\n",
    "\n",
    "w = [W1,b1,W2,b2,W3,b3]"
   ]
  },
  {
   "cell_type": "markdown",
   "metadata": {},
   "source": [
    "# Model"
   ]
  },
  {
   "cell_type": "code",
   "execution_count": 2,
   "metadata": {
    "collapsed": true
   },
   "outputs": [],
   "source": [
    "def learner(X,W):\n",
    "    \n",
    "    # 784 -> 64\n",
    "    X1 = relu(add(matmul(X,W[0]),W[1]))\n",
    "    # 64 -> 16\n",
    "    X2 = relu(add(matmul(X1,W[2]),W[3]))\n",
    "    # 16 -> 10\n",
    "    YP = softmax(add(matmul(X2,W[4]),W[5]))\n",
    "    return YP"
   ]
  },
  {
   "cell_type": "markdown",
   "metadata": {},
   "source": [
    "# Place Holders"
   ]
  },
  {
   "cell_type": "code",
   "execution_count": 3,
   "metadata": {
    "collapsed": true
   },
   "outputs": [],
   "source": [
    "batch = 64\n",
    "Xin = Constant(af.np_to_af_array(np.random.random((batch,Data.shape[1])).astype(np.float32)))\n",
    "Y = Constant(af.np_to_af_array(np.random.random((batch,10)).astype(np.float32)))"
   ]
  },
  {
   "cell_type": "code",
   "execution_count": 4,
   "metadata": {
    "collapsed": true,
    "scrolled": false
   },
   "outputs": [],
   "source": [
    "YP = learner(Xin,w)\n",
    "e = CrossEntropy(Y,YP)\n",
    "acc = accuracy(Y,YP)\n",
    "sgd = SGD(lr = 0.01,momentum=0.9)"
   ]
  },
  {
   "cell_type": "code",
   "execution_count": 5,
   "metadata": {
    "scrolled": true
   },
   "outputs": [
    {
     "name": "stderr",
     "output_type": "stream",
     "text": [
      "100%|██████████| 937/937 [00:28<00:00, 33.09it/s]"
     ]
    },
    {
     "name": "stdout",
     "output_type": "stream",
     "text": [
      "Accuracy :0.101921024546\n",
      "Loss :968.812\n"
     ]
    },
    {
     "name": "stderr",
     "output_type": "stream",
     "text": [
      "\n"
     ]
    }
   ],
   "source": [
    "for i in range(1):\n",
    "    epoch_acc = []\n",
    "    epoch_loss = []\n",
    "    total_batchs = int(Data.shape[0]/batch)\n",
    "    for j in tqdm.tqdm(range(total_batchs)):\n",
    "        X_np = Data[j*batch:(j+1)*batch,:]\n",
    "        Xin.value = af.np_to_af_array(X_np)\n",
    "        Y_np = classes[j*batch:(j+1)*batch,:]\n",
    "        Y.value = af.np_to_af_array(Y_np)\n",
    "        \n",
    "        (l,w) = sgd.update(e, w, i)\n",
    "        acc = accuracy(Y,YP)\n",
    "        epoch_acc.append(acc)\n",
    "        epoch_loss.append(np.asarray(l)[0])\n",
    "    print('Accuracy :'+str(np.mean(epoch_acc)))\n",
    "    print('Loss :'+str(np.mean(epoch_loss)))"
   ]
  }
 ],
 "metadata": {
  "anaconda-cloud": {},
  "kernelspec": {
   "display_name": "Python [default]",
   "language": "python",
   "name": "python3"
  },
  "language_info": {
   "codemirror_mode": {
    "name": "ipython",
    "version": 3
   },
   "file_extension": ".py",
   "mimetype": "text/x-python",
   "name": "python",
   "nbconvert_exporter": "python",
   "pygments_lexer": "ipython3",
   "version": "3.5.3"
  }
 },
 "nbformat": 4,
 "nbformat_minor": 2
}
