{
 "cells": [
  {
   "cell_type": "code",
   "execution_count": 5,
   "metadata": {
    "collapsed": false,
    "scrolled": false
   },
   "outputs": [],
   "source": [
    "%matplotlib inline \n",
    "import numpy as np\n",
    "\n",
    "import arrayfire as af\n",
    "from scipy import ndimage\n",
    "import matplotlib.pyplot as plt\n",
    "from LearnAF import *\n",
    "\n",
    "# input dataset\n",
    "X = np.array([  [0,0,1],\n",
    "                [0,1,1],\n",
    "                [1,0,1],\n",
    "                [1,1,1] ], dtype = np.float32)\n",
    "X = Constant(af.np_to_af_array(X))\n",
    "# output dataset            \n",
    "y = np.array([[0,0,1,1]], dtype = np.float32).T\n",
    "y = Constant(af.np_to_af_array(y)) \n",
    "# seed random numbers to make calculation\n",
    "# deterministic (just a good practice)\n",
    "np.random.seed(1)\n",
    "\n",
    "# initialize weights randomly with mean 0\n",
    "syn0 = np.array(2*np.random.random((3,10)) - 1, dtype = np.float32)\n",
    "W1 = Variable(af.np_to_af_array(syn0),name='W1')\n",
    "b1 = Variable(af.constant(0,1),name='b1')\n",
    "\n",
    "syn0 = np.array(2*np.random.random((10,1)) - 1, dtype = np.float32)\n",
    "W2 = Variable(af.np_to_af_array(syn0),name='W2')\n",
    "b2 = Variable(af.constant(0,1),name='b2')\n",
    "\n",
    "w = [W1,b1,W2,b2]\n",
    "\n",
    "X1 = sigmoid(add(matmul(X,W1),b1))\n",
    "yp = sigmoid(add(matmul(X1,W2),b2))\n",
    "e = mse(y,yp)\n",
    "sgd = SGD(lr = 0.001)"
   ]
  },
  {
   "cell_type": "code",
   "execution_count": 8,
   "metadata": {
    "collapsed": false,
    "scrolled": true
   },
   "outputs": [
    {
     "name": "stdout",
     "output_type": "stream",
     "text": [
      "#\n",
      "#\n",
      "#\n",
      "#\n",
      "#\n",
      "#\n",
      "#\n",
      "#\n",
      "#\n",
      "#\n"
     ]
    }
   ],
   "source": [
    "for i in range(0,1000):\n",
    "    w = sgd.update(e, w, i)\n",
    "    if i%100 == 0:\n",
    "        print('#')"
   ]
  }
 ],
 "metadata": {
  "anaconda-cloud": {},
  "kernelspec": {
   "display_name": "Python [default]",
   "language": "python",
   "name": "python3"
  },
  "language_info": {
   "codemirror_mode": {
    "name": "ipython",
    "version": 3
   },
   "file_extension": ".py",
   "mimetype": "text/x-python",
   "name": "python",
   "nbconvert_exporter": "python",
   "pygments_lexer": "ipython3",
   "version": "3.5.2"
  }
 },
 "nbformat": 4,
 "nbformat_minor": 2
}
